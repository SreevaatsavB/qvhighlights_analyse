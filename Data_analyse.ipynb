{
 "cells": [
  {
   "cell_type": "code",
   "execution_count": 1,
   "id": "2caea156",
   "metadata": {},
   "outputs": [],
   "source": [
    "import os\n",
    "\n",
    "fp = \"/Users/sreevaatsav/Downloads/MTDETR/moment_detr/data\""
   ]
  },
  {
   "cell_type": "code",
   "execution_count": 2,
   "id": "777ffe10",
   "metadata": {},
   "outputs": [
    {
     "data": {
      "text/plain": [
       "['highlight_test_release.jsonl',\n",
       " 'LICENSE',\n",
       " 'README.md',\n",
       " 'highlight_train_release.jsonl',\n",
       " 'highlight_val_release.jsonl',\n",
       " 'subs_train.jsonl']"
      ]
     },
     "execution_count": 2,
     "metadata": {},
     "output_type": "execute_result"
    }
   ],
   "source": [
    "os.listdir(fp)"
   ]
  },
  {
   "cell_type": "code",
   "execution_count": 3,
   "id": "b5c4bb4a",
   "metadata": {},
   "outputs": [
    {
     "data": {
      "text/plain": [
       "'/Users/sreevaatsav/Downloads/MTDETR/moment_detr/data/highlight_train_release.jsonl'"
      ]
     },
     "execution_count": 3,
     "metadata": {},
     "output_type": "execute_result"
    }
   ],
   "source": [
    "os.path.join(fp, os.listdir(fp)[3])"
   ]
  },
  {
   "cell_type": "code",
   "execution_count": 4,
   "id": "8ea34fb9",
   "metadata": {},
   "outputs": [],
   "source": [
    "import pandas as pd\n",
    "\n",
    "train_df = pd.read_json(\"/Users/sreevaatsav/Downloads/MTDETR/moment_detr/data/highlight_train_release.jsonl\", lines = True)\n",
    "test_df = pd.read_json(os.path.join(fp, os.listdir(fp)[0]), lines = True)\n",
    "val_df = pd.read_json(os.path.join(fp, os.listdir(fp)[4]), lines = True)"
   ]
  },
  {
   "cell_type": "code",
   "execution_count": 133,
   "id": "bcffa562",
   "metadata": {},
   "outputs": [
    {
     "data": {
      "text/html": [
       "<div>\n",
       "<style scoped>\n",
       "    .dataframe tbody tr th:only-of-type {\n",
       "        vertical-align: middle;\n",
       "    }\n",
       "\n",
       "    .dataframe tbody tr th {\n",
       "        vertical-align: top;\n",
       "    }\n",
       "\n",
       "    .dataframe thead th {\n",
       "        text-align: right;\n",
       "    }\n",
       "</style>\n",
       "<table border=\"1\" class=\"dataframe\">\n",
       "  <thead>\n",
       "    <tr style=\"text-align: right;\">\n",
       "      <th></th>\n",
       "      <th>qid</th>\n",
       "      <th>query</th>\n",
       "      <th>duration</th>\n",
       "      <th>vid</th>\n",
       "      <th>relevant_clip_ids</th>\n",
       "      <th>saliency_scores</th>\n",
       "      <th>relevant_windows</th>\n",
       "    </tr>\n",
       "  </thead>\n",
       "  <tbody>\n",
       "    <tr>\n",
       "      <th>0</th>\n",
       "      <td>9769</td>\n",
       "      <td>some military patriots takes us through their ...</td>\n",
       "      <td>150</td>\n",
       "      <td>j7rJstUseKg_360.0_510.0</td>\n",
       "      <td>[36, 37, 38, 39, 40, 42, 43, 44, 45, 46, 48, 4...</td>\n",
       "      <td>[[4, 3, 2], [4, 1, 3], [4, 3, 4], [4, 1, 2], [...</td>\n",
       "      <td>[[72, 82], [84, 94], [96, 106], [108, 118], [1...</td>\n",
       "    </tr>\n",
       "    <tr>\n",
       "      <th>1</th>\n",
       "      <td>10016</td>\n",
       "      <td>Man in baseball cap eats before doing his inte...</td>\n",
       "      <td>150</td>\n",
       "      <td>j7rJstUseKg_210.0_360.0</td>\n",
       "      <td>[48, 49, 50, 51, 52, 53, 54, 55, 56]</td>\n",
       "      <td>[[2, 3, 3], [4, 3, 2], [2, 3, 1], [2, 3, 0], [...</td>\n",
       "      <td>[[96, 114]]</td>\n",
       "    </tr>\n",
       "    <tr>\n",
       "      <th>2</th>\n",
       "      <td>10078</td>\n",
       "      <td>A man in a white shirt discusses the right to ...</td>\n",
       "      <td>150</td>\n",
       "      <td>j7rJstUseKg_60.0_210.0</td>\n",
       "      <td>[24, 38, 39, 40, 41, 42, 43, 44, 45, 46, 47, 4...</td>\n",
       "      <td>[[0, 2, 1], [0, 1, 1], [0, 1, 1], [0, 1, 1], [...</td>\n",
       "      <td>[[48, 50], [76, 120], [122, 138], [140, 146]]</td>\n",
       "    </tr>\n",
       "    <tr>\n",
       "      <th>3</th>\n",
       "      <td>6812</td>\n",
       "      <td>A view of a bamboo fountain of water in a tea ...</td>\n",
       "      <td>150</td>\n",
       "      <td>-Oc6gSWB_HA_60.0_210.0</td>\n",
       "      <td>[32, 33, 34, 35, 36, 37, 38, 39, 40, 41, 42, 4...</td>\n",
       "      <td>[[4, 2, 3], [3, 3, 3], [4, 3, 3], [4, 2, 3], [...</td>\n",
       "      <td>[[64, 92]]</td>\n",
       "    </tr>\n",
       "    <tr>\n",
       "      <th>4</th>\n",
       "      <td>9247</td>\n",
       "      <td>The weather map shows large snowfall in the we...</td>\n",
       "      <td>150</td>\n",
       "      <td>G60-kHBEeZA_60.0_210.0</td>\n",
       "      <td>[7, 8, 9, 10, 11, 12, 13, 14, 15, 16, 17, 18, ...</td>\n",
       "      <td>[[2, 4, 2], [3, 4, 2], [3, 4, 2], [2, 4, 2], [...</td>\n",
       "      <td>[[14, 48]]</td>\n",
       "    </tr>\n",
       "    <tr>\n",
       "      <th>...</th>\n",
       "      <td>...</td>\n",
       "      <td>...</td>\n",
       "      <td>...</td>\n",
       "      <td>...</td>\n",
       "      <td>...</td>\n",
       "      <td>...</td>\n",
       "      <td>...</td>\n",
       "    </tr>\n",
       "    <tr>\n",
       "      <th>7213</th>\n",
       "      <td>1369</td>\n",
       "      <td>Kids with different face paintings on them</td>\n",
       "      <td>150</td>\n",
       "      <td>Mp7wN80amkQ_360.0_510.0</td>\n",
       "      <td>[41, 42, 43, 44, 45, 46, 47, 48, 49, 50, 51, 5...</td>\n",
       "      <td>[[2, 4, 4], [2, 4, 4], [3, 4, 4], [3, 4, 4], [...</td>\n",
       "      <td>[[82, 120], [124, 132]]</td>\n",
       "    </tr>\n",
       "    <tr>\n",
       "      <th>7214</th>\n",
       "      <td>2477</td>\n",
       "      <td>Two small children are playing with instrument...</td>\n",
       "      <td>150</td>\n",
       "      <td>Mp7wN80amkQ_60.0_210.0</td>\n",
       "      <td>[33, 34, 35, 36, 37, 38, 39, 40, 41, 42, 43, 4...</td>\n",
       "      <td>[[0, 2, 2], [0, 2, 2], [1, 2, 3], [3, 3, 3], [...</td>\n",
       "      <td>[[66, 112]]</td>\n",
       "    </tr>\n",
       "    <tr>\n",
       "      <th>7215</th>\n",
       "      <td>6050</td>\n",
       "      <td>A mom is talking  about her son birthday party</td>\n",
       "      <td>150</td>\n",
       "      <td>Mp7wN80amkQ_210.0_360.0</td>\n",
       "      <td>[0, 1, 2, 3, 4, 5, 6, 7, 8, 9, 10, 11, 12, 13,...</td>\n",
       "      <td>[[4, 1, 2], [3, 1, 3], [3, 4, 3], [4, 4, 3], [...</td>\n",
       "      <td>[[0, 60], [72, 126]]</td>\n",
       "    </tr>\n",
       "    <tr>\n",
       "      <th>7216</th>\n",
       "      <td>8672</td>\n",
       "      <td>Children at a birthday party are wearing costu...</td>\n",
       "      <td>150</td>\n",
       "      <td>Mp7wN80amkQ_660.0_810.0</td>\n",
       "      <td>[51, 52, 53, 54, 55, 56, 57, 58, 59, 60, 61, 6...</td>\n",
       "      <td>[[3, 4, 4], [3, 3, 4], [3, 3, 4], [4, 4, 4], [...</td>\n",
       "      <td>[[102, 132]]</td>\n",
       "    </tr>\n",
       "    <tr>\n",
       "      <th>7217</th>\n",
       "      <td>8842</td>\n",
       "      <td>A little boy with red and black jacket is hitt...</td>\n",
       "      <td>150</td>\n",
       "      <td>Mp7wN80amkQ_510.0_660.0</td>\n",
       "      <td>[25, 26, 27, 28, 29, 30, 31, 32, 33, 34, 35, 36]</td>\n",
       "      <td>[[2, 4, 3], [2, 4, 3], [3, 4, 3], [3, 4, 3], [...</td>\n",
       "      <td>[[50, 74]]</td>\n",
       "    </tr>\n",
       "  </tbody>\n",
       "</table>\n",
       "<p>7218 rows × 7 columns</p>\n",
       "</div>"
      ],
      "text/plain": [
       "        qid                                              query  duration  \\\n",
       "0      9769  some military patriots takes us through their ...       150   \n",
       "1     10016  Man in baseball cap eats before doing his inte...       150   \n",
       "2     10078  A man in a white shirt discusses the right to ...       150   \n",
       "3      6812  A view of a bamboo fountain of water in a tea ...       150   \n",
       "4      9247  The weather map shows large snowfall in the we...       150   \n",
       "...     ...                                                ...       ...   \n",
       "7213   1369         Kids with different face paintings on them       150   \n",
       "7214   2477  Two small children are playing with instrument...       150   \n",
       "7215   6050     A mom is talking  about her son birthday party       150   \n",
       "7216   8672  Children at a birthday party are wearing costu...       150   \n",
       "7217   8842  A little boy with red and black jacket is hitt...       150   \n",
       "\n",
       "                          vid  \\\n",
       "0     j7rJstUseKg_360.0_510.0   \n",
       "1     j7rJstUseKg_210.0_360.0   \n",
       "2      j7rJstUseKg_60.0_210.0   \n",
       "3      -Oc6gSWB_HA_60.0_210.0   \n",
       "4      G60-kHBEeZA_60.0_210.0   \n",
       "...                       ...   \n",
       "7213  Mp7wN80amkQ_360.0_510.0   \n",
       "7214   Mp7wN80amkQ_60.0_210.0   \n",
       "7215  Mp7wN80amkQ_210.0_360.0   \n",
       "7216  Mp7wN80amkQ_660.0_810.0   \n",
       "7217  Mp7wN80amkQ_510.0_660.0   \n",
       "\n",
       "                                      relevant_clip_ids  \\\n",
       "0     [36, 37, 38, 39, 40, 42, 43, 44, 45, 46, 48, 4...   \n",
       "1                  [48, 49, 50, 51, 52, 53, 54, 55, 56]   \n",
       "2     [24, 38, 39, 40, 41, 42, 43, 44, 45, 46, 47, 4...   \n",
       "3     [32, 33, 34, 35, 36, 37, 38, 39, 40, 41, 42, 4...   \n",
       "4     [7, 8, 9, 10, 11, 12, 13, 14, 15, 16, 17, 18, ...   \n",
       "...                                                 ...   \n",
       "7213  [41, 42, 43, 44, 45, 46, 47, 48, 49, 50, 51, 5...   \n",
       "7214  [33, 34, 35, 36, 37, 38, 39, 40, 41, 42, 43, 4...   \n",
       "7215  [0, 1, 2, 3, 4, 5, 6, 7, 8, 9, 10, 11, 12, 13,...   \n",
       "7216  [51, 52, 53, 54, 55, 56, 57, 58, 59, 60, 61, 6...   \n",
       "7217   [25, 26, 27, 28, 29, 30, 31, 32, 33, 34, 35, 36]   \n",
       "\n",
       "                                        saliency_scores  \\\n",
       "0     [[4, 3, 2], [4, 1, 3], [4, 3, 4], [4, 1, 2], [...   \n",
       "1     [[2, 3, 3], [4, 3, 2], [2, 3, 1], [2, 3, 0], [...   \n",
       "2     [[0, 2, 1], [0, 1, 1], [0, 1, 1], [0, 1, 1], [...   \n",
       "3     [[4, 2, 3], [3, 3, 3], [4, 3, 3], [4, 2, 3], [...   \n",
       "4     [[2, 4, 2], [3, 4, 2], [3, 4, 2], [2, 4, 2], [...   \n",
       "...                                                 ...   \n",
       "7213  [[2, 4, 4], [2, 4, 4], [3, 4, 4], [3, 4, 4], [...   \n",
       "7214  [[0, 2, 2], [0, 2, 2], [1, 2, 3], [3, 3, 3], [...   \n",
       "7215  [[4, 1, 2], [3, 1, 3], [3, 4, 3], [4, 4, 3], [...   \n",
       "7216  [[3, 4, 4], [3, 3, 4], [3, 3, 4], [4, 4, 4], [...   \n",
       "7217  [[2, 4, 3], [2, 4, 3], [3, 4, 3], [3, 4, 3], [...   \n",
       "\n",
       "                                       relevant_windows  \n",
       "0     [[72, 82], [84, 94], [96, 106], [108, 118], [1...  \n",
       "1                                           [[96, 114]]  \n",
       "2         [[48, 50], [76, 120], [122, 138], [140, 146]]  \n",
       "3                                            [[64, 92]]  \n",
       "4                                            [[14, 48]]  \n",
       "...                                                 ...  \n",
       "7213                            [[82, 120], [124, 132]]  \n",
       "7214                                        [[66, 112]]  \n",
       "7215                               [[0, 60], [72, 126]]  \n",
       "7216                                       [[102, 132]]  \n",
       "7217                                         [[50, 74]]  \n",
       "\n",
       "[7218 rows x 7 columns]"
      ]
     },
     "execution_count": 133,
     "metadata": {},
     "output_type": "execute_result"
    }
   ],
   "source": [
    "train_df"
   ]
  },
  {
   "cell_type": "code",
   "execution_count": 5,
   "id": "18a3ece3",
   "metadata": {},
   "outputs": [
    {
     "data": {
      "text/plain": [
       "((7218, 7), (1550, 7))"
      ]
     },
     "execution_count": 5,
     "metadata": {},
     "output_type": "execute_result"
    }
   ],
   "source": [
    "# pd.read_json(os.path.join(fp, os.listdir(fp)[5]), lines = True)\n",
    "train_df.shape, val_df.shape"
   ]
  },
  {
   "cell_type": "code",
   "execution_count": 6,
   "id": "8e01ba73",
   "metadata": {},
   "outputs": [],
   "source": [
    "# val_df\n",
    "train_queries = train_df[\"query\"]\n",
    "val_queries = val_df[\"query\"]"
   ]
  },
  {
   "cell_type": "code",
   "execution_count": 7,
   "id": "30e315fc",
   "metadata": {},
   "outputs": [
    {
     "data": {
      "text/plain": [
       "(8768,)"
      ]
     },
     "execution_count": 7,
     "metadata": {},
     "output_type": "execute_result"
    }
   ],
   "source": [
    "tv_queries = pd.concat([train_queries,val_queries])\n",
    "tv_queries.shape"
   ]
  },
  {
   "cell_type": "code",
   "execution_count": 8,
   "id": "77de0f91",
   "metadata": {},
   "outputs": [
    {
     "data": {
      "text/plain": [
       "0       some military patriots takes us through their ...\n",
       "1       Man in baseball cap eats before doing his inte...\n",
       "2       A man in a white shirt discusses the right to ...\n",
       "3       A view of a bamboo fountain of water in a tea ...\n",
       "4       The weather map shows large snowfall in the we...\n",
       "                              ...                        \n",
       "1545    A woman showing some vegetables and fruits ins...\n",
       "1546             Hand shows different foods on the table.\n",
       "1547    A white plate has different fruits and vegetab...\n",
       "1548    A woman is making a type of green smoothie in ...\n",
       "1549       Footage of two eggs being fried on a small pan\n",
       "Name: query, Length: 8768, dtype: object"
      ]
     },
     "execution_count": 8,
     "metadata": {},
     "output_type": "execute_result"
    }
   ],
   "source": [
    "tv_queries"
   ]
  },
  {
   "cell_type": "code",
   "execution_count": 17,
   "id": "35f138db",
   "metadata": {},
   "outputs": [],
   "source": [
    "# from transformers import AutoTokenizer, AutoModelForTokenClassification\n",
    "# from transformers import pipeline\n",
    "# import tqdm as notebook_tqdm\n",
    "\n",
    "\n",
    "# tokenizer = AutoTokenizer.from_pretrained(\"dslim/bert-base-NER\")\n",
    "# model = AutoModelForTokenClassification.from_pretrained(\"dslim/bert-base-NER\")\n",
    "\n",
    "# nlp = pipeline(\"ner\", model=model, tokenizer=tokenizer)\n",
    "# example = list(tv_queries)[1]"
   ]
  },
  {
   "cell_type": "code",
   "execution_count": 18,
   "id": "9c4ce959",
   "metadata": {},
   "outputs": [],
   "source": [
    "# %%time \n",
    "\n",
    "# ner_results = nlp(example)\n",
    "# print(ner_results)"
   ]
  },
  {
   "cell_type": "code",
   "execution_count": 21,
   "id": "332e032d",
   "metadata": {},
   "outputs": [
    {
     "data": {
      "text/plain": [
       "'some military patriots takes us through their safety procedures and measures.'"
      ]
     },
     "execution_count": 21,
     "metadata": {},
     "output_type": "execute_result"
    }
   ],
   "source": [
    "list(tv_queries)[0]"
   ]
  },
  {
   "cell_type": "code",
   "execution_count": 22,
   "id": "4fb3ef9c",
   "metadata": {},
   "outputs": [
    {
     "name": "stdout",
     "output_type": "stream",
     "text": [
      "2023-09-12 17:39:48,104 SequenceTagger predicts: Dictionary with 53 tags: <unk>, O, UH, ,, VBD, PRP, VB, PRP$, NN, RB, ., DT, JJ, VBP, VBG, IN, CD, NNS, NNP, WRB, VBZ, WDT, CC, TO, MD, VBN, WP, :, RP, EX, JJR, FW, XX, HYPH, POS, RBR, JJS, PDT, NNPS, RBS, AFX, WP$, -LRB-, -RRB-, ``, '', LS, $, SYM, ADD\n",
      "Sentence[12]: \"some military patriots takes us through their safety procedures and measures.\" → [\"some\"/DT, \"military\"/JJ, \"patriots\"/NNS, \"takes\"/VBZ, \"us\"/PRP, \"through\"/IN, \"their\"/PRP$, \"safety\"/NN, \"procedures\"/NNS, \"and\"/CC, \"measures\"/NNS, \".\"/.]\n",
      "The following NER tags are found:\n"
     ]
    }
   ],
   "source": [
    "from flair.data import Sentence\n",
    "from flair.models import SequenceTagger\n",
    "\n",
    "# load tagger\n",
    "tagger = SequenceTagger.load(\"flair/pos-english\")\n",
    "\n",
    "# make example sentence\n",
    "sentence = Sentence(list(tv_queries)[0])\n",
    "\n",
    "# predict NER tags\n",
    "tagger.predict(sentence)\n",
    "\n",
    "# print sentence\n",
    "print(sentence)\n",
    "\n",
    "# print predicted NER spans\n",
    "print('The following NER tags are found:')\n",
    "# iterate over entities and print\n",
    "for entity in sentence.get_spans('pos'):\n",
    "    print(entity)\n"
   ]
  },
  {
   "cell_type": "code",
   "execution_count": 57,
   "id": "35d595fe",
   "metadata": {},
   "outputs": [
    {
     "data": {
      "text/plain": [
       "12"
      ]
     },
     "execution_count": 57,
     "metadata": {},
     "output_type": "execute_result"
    }
   ],
   "source": [
    "len(sentence)"
   ]
  },
  {
   "cell_type": "code",
   "execution_count": 35,
   "id": "d1844f93",
   "metadata": {},
   "outputs": [
    {
     "data": {
      "text/plain": [
       "['Token[0]: \"some\"'/'DT' (1.0),\n",
       " 'Token[1]: \"military\"'/'JJ' (0.9898),\n",
       " 'Token[2]: \"patriots\"'/'NNS' (0.9999),\n",
       " 'Token[3]: \"takes\"'/'VBZ' (1.0),\n",
       " 'Token[4]: \"us\"'/'PRP' (1.0),\n",
       " 'Token[5]: \"through\"'/'IN' (0.9998),\n",
       " 'Token[6]: \"their\"'/'PRP$' (1.0),\n",
       " 'Token[7]: \"safety\"'/'NN' (1.0),\n",
       " 'Token[8]: \"procedures\"'/'NNS' (1.0),\n",
       " 'Token[9]: \"and\"'/'CC' (1.0),\n",
       " 'Token[10]: \"measures\"'/'NNS' (1.0),\n",
       " 'Token[11]: \".\"'/'.' (1.0)]"
      ]
     },
     "execution_count": 35,
     "metadata": {},
     "output_type": "execute_result"
    }
   ],
   "source": [
    "type(sentence)\n",
    "\n",
    "sentence.get_labels()"
   ]
  },
  {
   "cell_type": "code",
   "execution_count": 79,
   "id": "b71642d3",
   "metadata": {},
   "outputs": [
    {
     "data": {
      "text/plain": [
       "'DT'"
      ]
     },
     "execution_count": 79,
     "metadata": {},
     "output_type": "execute_result"
    }
   ],
   "source": [
    "sentence.get_token(1).get_label().value"
   ]
  },
  {
   "cell_type": "code",
   "execution_count": 61,
   "id": "92462990",
   "metadata": {},
   "outputs": [
    {
     "data": {
      "text/plain": [
       "'takes'"
      ]
     },
     "execution_count": 61,
     "metadata": {},
     "output_type": "execute_result"
    }
   ],
   "source": [
    "sentence.get_token(4).text"
   ]
  },
  {
   "cell_type": "code",
   "execution_count": 63,
   "id": "ed3a99ad",
   "metadata": {},
   "outputs": [
    {
     "data": {
      "text/plain": [
       "Token[3]: \"takes\" → VBZ (1.0)"
      ]
     },
     "execution_count": 63,
     "metadata": {},
     "output_type": "execute_result"
    }
   ],
   "source": [
    "sentence[3]"
   ]
  },
  {
   "cell_type": "code",
   "execution_count": 40,
   "id": "f9298164",
   "metadata": {},
   "outputs": [
    {
     "data": {
      "text/plain": [
       "[]"
      ]
     },
     "execution_count": 40,
     "metadata": {},
     "output_type": "execute_result"
    }
   ],
   "source": [
    "sentence.get_spans(\"pos\")"
   ]
  },
  {
   "cell_type": "code",
   "execution_count": 25,
   "id": "060b9731",
   "metadata": {},
   "outputs": [],
   "source": [
    "tagger.predict(sentence)\n"
   ]
  },
  {
   "cell_type": "code",
   "execution_count": 27,
   "id": "2a187c2e",
   "metadata": {},
   "outputs": [],
   "source": [
    "req_tags = [\"VB\", \"VBD\", \"VBG\", \"VBN\", \"VBP\", \"VBZ\"]"
   ]
  },
  {
   "cell_type": "code",
   "execution_count": 41,
   "id": "ee838a66",
   "metadata": {},
   "outputs": [
    {
     "data": {
      "text/plain": [
       "[]"
      ]
     },
     "execution_count": 41,
     "metadata": {},
     "output_type": "execute_result"
    }
   ],
   "source": [
    "# sentence.get_spans(\"POS\")"
   ]
  },
  {
   "cell_type": "code",
   "execution_count": 97,
   "id": "29c95aa8",
   "metadata": {},
   "outputs": [],
   "source": [
    "from flair.data import Sentence\n",
    "from flair.models import SequenceTagger\n",
    "\n",
    "def get_ner_tags(tv_queries):\n",
    "\n",
    "    req_tags = [\"VB\", \"VBD\", \"VBG\", \"VBN\", \"VBP\", \"VBZ\"]\n",
    "\n",
    "    tagger = SequenceTagger.load(\"flair/pos-english\")\n",
    "\n",
    "    tv_queries_list = list(tv_queries)\n",
    "\n",
    "\n",
    "    op = []\n",
    "\n",
    "    for i in range(len(tv_queries_list)):\n",
    "        \n",
    "        sentence = Sentence(tv_queries_list[i])\n",
    "\n",
    "        tagger.predict(sentence)\n",
    "\n",
    "        temp_op = []\n",
    "\n",
    "        for j in range(1,len(sentence)+1):\n",
    "    \n",
    "            curr_val = sentence.get_token(j).get_label().value\n",
    "\n",
    "            # print(curr_val)\n",
    "\n",
    "            if curr_val in req_tags:\n",
    "\n",
    "                curr_tok = sentence.get_token(j).text\n",
    "\n",
    "                temp_op.append(curr_tok)\n",
    "\n",
    "        op.append(temp_op)\n",
    "\n",
    "    return op"
   ]
  },
  {
   "cell_type": "code",
   "execution_count": 105,
   "id": "cc9baa38",
   "metadata": {},
   "outputs": [
    {
     "name": "stdout",
     "output_type": "stream",
     "text": [
      "2023-09-12 18:17:29,705 SequenceTagger predicts: Dictionary with 53 tags: <unk>, O, UH, ,, VBD, PRP, VB, PRP$, NN, RB, ., DT, JJ, VBP, VBG, IN, CD, NNS, NNP, WRB, VBZ, WDT, CC, TO, MD, VBN, WP, :, RP, EX, JJR, FW, XX, HYPH, POS, RBR, JJS, PDT, NNPS, RBS, AFX, WP$, -LRB-, -RRB-, ``, '', LS, $, SYM, ADD\n",
      "CPU times: user 42min 55s, sys: 35.2 s, total: 43min 30s\n",
      "Wall time: 54min 24s\n"
     ]
    }
   ],
   "source": [
    "%%time \n",
    "\n",
    "op = get_ner_tags(tv_queries)"
   ]
  },
  {
   "cell_type": "code",
   "execution_count": 109,
   "id": "16725b4c",
   "metadata": {},
   "outputs": [],
   "source": [
    "from matplotlib import pyplot as plt \n",
    "import seaborn as sns\n"
   ]
  },
  {
   "cell_type": "code",
   "execution_count": 110,
   "id": "af9dee99",
   "metadata": {},
   "outputs": [],
   "source": [
    "tot_verbs = []\n",
    "\n",
    "for va in op:\n",
    "    tot_verbs += va"
   ]
  },
  {
   "cell_type": "code",
   "execution_count": 114,
   "id": "7854161a",
   "metadata": {},
   "outputs": [],
   "source": [
    "# tot_verbs\n",
    "from collections import Counter\n",
    "\n",
    "temp_collection  = Counter(tot_verbs)\n",
    "# sns.countplot(tot_verbs)"
   ]
  },
  {
   "cell_type": "code",
   "execution_count": 117,
   "id": "157dcfed",
   "metadata": {},
   "outputs": [
    {
     "data": {
      "text/plain": [
       "[('talking', 562),\n",
       " ('showing', 448),\n",
       " ('wearing', 335),\n",
       " ('talks', 323),\n",
       " ('walks', 272),\n",
       " ('shows', 243),\n",
       " ('holds', 235),\n",
       " ('walking', 221),\n",
       " ('sitting', 208),\n",
       " ('holding', 170),\n",
       " ('sits', 153),\n",
       " ('having', 149),\n",
       " ('eating', 137),\n",
       " ('has', 131),\n",
       " ('playing', 123),\n",
       " ('being', 119),\n",
       " ('sharing', 117),\n",
       " ('stands', 111),\n",
       " ('walk', 109),\n",
       " ('wears', 107),\n",
       " ('shown', 99),\n",
       " ('eats', 98),\n",
       " ('standing', 97),\n",
       " ('driving', 97),\n",
       " ('giving', 95),\n",
       " ('gives', 94),\n",
       " ('have', 92),\n",
       " ('looks', 92),\n",
       " ('making', 80),\n",
       " ('speaks', 78),\n",
       " ('getting', 76),\n",
       " ('looking', 73),\n",
       " ('makes', 71),\n",
       " ('gets', 70),\n",
       " ('talk', 70),\n",
       " ('goes', 70),\n",
       " ('drives', 68),\n",
       " ('eat', 68),\n",
       " ('doing', 62),\n",
       " ('make', 61),\n",
       " ('puts', 61),\n",
       " ('riding', 57),\n",
       " ('sit', 56),\n",
       " ('speaking', 56),\n",
       " ('rides', 53),\n",
       " ('hanging', 52),\n",
       " ('taking', 52),\n",
       " ('trying', 52)]"
      ]
     },
     "execution_count": 117,
     "metadata": {},
     "output_type": "execute_result"
    }
   ],
   "source": [
    "temp_collection.most_common(50)[2:]"
   ]
  },
  {
   "cell_type": "code",
   "execution_count": 127,
   "id": "9252002a",
   "metadata": {},
   "outputs": [],
   "source": [
    "top_50_verbs = dict(temp_collection.most_common(50)[2:27])"
   ]
  },
  {
   "cell_type": "code",
   "execution_count": 132,
   "id": "9c7917db",
   "metadata": {},
   "outputs": [
    {
     "data": {
      "image/png": "[encoded data removed]",
      "text/plain": [
       "<Figure size 2000x600 with 1 Axes>"
      ]
     },
     "metadata": {},
     "output_type": "display_data"
    }
   ],
   "source": [
    "plt.figure(figsize=(20,6))\n",
    "sns.barplot(x = list(top_50_verbs.keys()), y = list(top_50_verbs.values()))\n",
    "plt.show()"
   ]
  },
  {
   "cell_type": "code",
   "execution_count": null,
   "id": "ca3edea3",
   "metadata": {},
   "outputs": [],
   "source": []
  },
  {
   "cell_type": "code",
   "execution_count": null,
   "id": "454c9c41",
   "metadata": {},
   "outputs": [],
   "source": []
  }
 ],
 "metadata": {
  "kernelspec": {
   "display_name": "Python 3",
   "language": "python",
   "name": "python3"
  },
  "language_info": {
   "codemirror_mode": {
    "name": "ipython",
    "version": 3
   },
   "file_extension": ".py",
   "mimetype": "text/x-python",
   "name": "python",
   "nbconvert_exporter": "python",
   "pygments_lexer": "ipython3",
   "version": "3.9.0"
  }
 },
 "nbformat": 4,
 "nbformat_minor": 5
}
