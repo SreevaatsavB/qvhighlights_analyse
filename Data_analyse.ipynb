{
 "cells": [
  {
   "cell_type": "code",
   "execution_count": 32,
   "id": "2caea156",
   "metadata": {},
   "outputs": [],
   "source": [
    "import os\n",
    "import numpy as np\n",
    "from matplotlib import pyplot as plt \n",
    "import seaborn as sns\n",
    "\n",
    "fp = \"/Users/sreevaatsav/Downloads/MTDETR/moment_detr/data\""
   ]
  },
  {
   "cell_type": "code",
   "execution_count": 5,
   "id": "777ffe10",
   "metadata": {},
   "outputs": [
    {
     "data": {
      "text/plain": [
       "['highlight_test_release.jsonl',\n",
       " 'LICENSE',\n",
       " 'README.md',\n",
       " 'highlight_train_release.jsonl',\n",
       " 'highlight_val_release.jsonl',\n",
       " 'subs_train.jsonl']"
      ]
     },
     "execution_count": 5,
     "metadata": {},
     "output_type": "execute_result"
    }
   ],
   "source": [
    "os.listdir(fp)"
   ]
  },
  {
   "cell_type": "code",
   "execution_count": 6,
   "id": "b5c4bb4a",
   "metadata": {},
   "outputs": [
    {
     "data": {
      "text/plain": [
       "'/Users/sreevaatsav/Downloads/MTDETR/moment_detr/data/highlight_train_release.jsonl'"
      ]
     },
     "execution_count": 6,
     "metadata": {},
     "output_type": "execute_result"
    }
   ],
   "source": [
    "os.path.join(fp, os.listdir(fp)[3])"
   ]
  },
  {
   "cell_type": "code",
   "execution_count": 7,
   "id": "8ea34fb9",
   "metadata": {},
   "outputs": [],
   "source": [
    "import pandas as pd\n",
    "\n",
    "train_df = pd.read_json(\"/Users/sreevaatsav/Downloads/MTDETR/moment_detr/data/highlight_train_release.jsonl\", lines = True)\n",
    "test_df = pd.read_json(os.path.join(fp, os.listdir(fp)[0]), lines = True)\n",
    "val_df = pd.read_json(os.path.join(fp, os.listdir(fp)[4]), lines = True)"
   ]
  },
  {
   "cell_type": "code",
   "execution_count": 8,
   "id": "bcffa562",
   "metadata": {},
   "outputs": [
    {
     "data": {
      "text/html": [
       "<div>\n",
       "<style scoped>\n",
       "    .dataframe tbody tr th:only-of-type {\n",
       "        vertical-align: middle;\n",
       "    }\n",
       "\n",
       "    .dataframe tbody tr th {\n",
       "        vertical-align: top;\n",
       "    }\n",
       "\n",
       "    .dataframe thead th {\n",
       "        text-align: right;\n",
       "    }\n",
       "</style>\n",
       "<table border=\"1\" class=\"dataframe\">\n",
       "  <thead>\n",
       "    <tr style=\"text-align: right;\">\n",
       "      <th></th>\n",
       "      <th>qid</th>\n",
       "      <th>query</th>\n",
       "      <th>duration</th>\n",
       "      <th>vid</th>\n",
       "      <th>relevant_clip_ids</th>\n",
       "      <th>saliency_scores</th>\n",
       "      <th>relevant_windows</th>\n",
       "    </tr>\n",
       "  </thead>\n",
       "  <tbody>\n",
       "    <tr>\n",
       "      <th>0</th>\n",
       "      <td>9769</td>\n",
       "      <td>some military patriots takes us through their ...</td>\n",
       "      <td>150</td>\n",
       "      <td>j7rJstUseKg_360.0_510.0</td>\n",
       "      <td>[36, 37, 38, 39, 40, 42, 43, 44, 45, 46, 48, 4...</td>\n",
       "      <td>[[4, 3, 2], [4, 1, 3], [4, 3, 4], [4, 1, 2], [...</td>\n",
       "      <td>[[72, 82], [84, 94], [96, 106], [108, 118], [1...</td>\n",
       "    </tr>\n",
       "    <tr>\n",
       "      <th>1</th>\n",
       "      <td>10016</td>\n",
       "      <td>Man in baseball cap eats before doing his inte...</td>\n",
       "      <td>150</td>\n",
       "      <td>j7rJstUseKg_210.0_360.0</td>\n",
       "      <td>[48, 49, 50, 51, 52, 53, 54, 55, 56]</td>\n",
       "      <td>[[2, 3, 3], [4, 3, 2], [2, 3, 1], [2, 3, 0], [...</td>\n",
       "      <td>[[96, 114]]</td>\n",
       "    </tr>\n",
       "    <tr>\n",
       "      <th>2</th>\n",
       "      <td>10078</td>\n",
       "      <td>A man in a white shirt discusses the right to ...</td>\n",
       "      <td>150</td>\n",
       "      <td>j7rJstUseKg_60.0_210.0</td>\n",
       "      <td>[24, 38, 39, 40, 41, 42, 43, 44, 45, 46, 47, 4...</td>\n",
       "      <td>[[0, 2, 1], [0, 1, 1], [0, 1, 1], [0, 1, 1], [...</td>\n",
       "      <td>[[48, 50], [76, 120], [122, 138], [140, 146]]</td>\n",
       "    </tr>\n",
       "    <tr>\n",
       "      <th>3</th>\n",
       "      <td>6812</td>\n",
       "      <td>A view of a bamboo fountain of water in a tea ...</td>\n",
       "      <td>150</td>\n",
       "      <td>-Oc6gSWB_HA_60.0_210.0</td>\n",
       "      <td>[32, 33, 34, 35, 36, 37, 38, 39, 40, 41, 42, 4...</td>\n",
       "      <td>[[4, 2, 3], [3, 3, 3], [4, 3, 3], [4, 2, 3], [...</td>\n",
       "      <td>[[64, 92]]</td>\n",
       "    </tr>\n",
       "    <tr>\n",
       "      <th>4</th>\n",
       "      <td>9247</td>\n",
       "      <td>The weather map shows large snowfall in the we...</td>\n",
       "      <td>150</td>\n",
       "      <td>G60-kHBEeZA_60.0_210.0</td>\n",
       "      <td>[7, 8, 9, 10, 11, 12, 13, 14, 15, 16, 17, 18, ...</td>\n",
       "      <td>[[2, 4, 2], [3, 4, 2], [3, 4, 2], [2, 4, 2], [...</td>\n",
       "      <td>[[14, 48]]</td>\n",
       "    </tr>\n",
       "    <tr>\n",
       "      <th>...</th>\n",
       "      <td>...</td>\n",
       "      <td>...</td>\n",
       "      <td>...</td>\n",
       "      <td>...</td>\n",
       "      <td>...</td>\n",
       "      <td>...</td>\n",
       "      <td>...</td>\n",
       "    </tr>\n",
       "    <tr>\n",
       "      <th>7213</th>\n",
       "      <td>1369</td>\n",
       "      <td>Kids with different face paintings on them</td>\n",
       "      <td>150</td>\n",
       "      <td>Mp7wN80amkQ_360.0_510.0</td>\n",
       "      <td>[41, 42, 43, 44, 45, 46, 47, 48, 49, 50, 51, 5...</td>\n",
       "      <td>[[2, 4, 4], [2, 4, 4], [3, 4, 4], [3, 4, 4], [...</td>\n",
       "      <td>[[82, 120], [124, 132]]</td>\n",
       "    </tr>\n",
       "    <tr>\n",
       "      <th>7214</th>\n",
       "      <td>2477</td>\n",
       "      <td>Two small children are playing with instrument...</td>\n",
       "      <td>150</td>\n",
       "      <td>Mp7wN80amkQ_60.0_210.0</td>\n",
       "      <td>[33, 34, 35, 36, 37, 38, 39, 40, 41, 42, 43, 4...</td>\n",
       "      <td>[[0, 2, 2], [0, 2, 2], [1, 2, 3], [3, 3, 3], [...</td>\n",
       "      <td>[[66, 112]]</td>\n",
       "    </tr>\n",
       "    <tr>\n",
       "      <th>7215</th>\n",
       "      <td>6050</td>\n",
       "      <td>A mom is talking  about her son birthday party</td>\n",
       "      <td>150</td>\n",
       "      <td>Mp7wN80amkQ_210.0_360.0</td>\n",
       "      <td>[0, 1, 2, 3, 4, 5, 6, 7, 8, 9, 10, 11, 12, 13,...</td>\n",
       "      <td>[[4, 1, 2], [3, 1, 3], [3, 4, 3], [4, 4, 3], [...</td>\n",
       "      <td>[[0, 60], [72, 126]]</td>\n",
       "    </tr>\n",
       "    <tr>\n",
       "      <th>7216</th>\n",
       "      <td>8672</td>\n",
       "      <td>Children at a birthday party are wearing costu...</td>\n",
       "      <td>150</td>\n",
       "      <td>Mp7wN80amkQ_660.0_810.0</td>\n",
       "      <td>[51, 52, 53, 54, 55, 56, 57, 58, 59, 60, 61, 6...</td>\n",
       "      <td>[[3, 4, 4], [3, 3, 4], [3, 3, 4], [4, 4, 4], [...</td>\n",
       "      <td>[[102, 132]]</td>\n",
       "    </tr>\n",
       "    <tr>\n",
       "      <th>7217</th>\n",
       "      <td>8842</td>\n",
       "      <td>A little boy with red and black jacket is hitt...</td>\n",
       "      <td>150</td>\n",
       "      <td>Mp7wN80amkQ_510.0_660.0</td>\n",
       "      <td>[25, 26, 27, 28, 29, 30, 31, 32, 33, 34, 35, 36]</td>\n",
       "      <td>[[2, 4, 3], [2, 4, 3], [3, 4, 3], [3, 4, 3], [...</td>\n",
       "      <td>[[50, 74]]</td>\n",
       "    </tr>\n",
       "  </tbody>\n",
       "</table>\n",
       "<p>7218 rows × 7 columns</p>\n",
       "</div>"
      ],
      "text/plain": [
       "        qid                                              query  duration  \\\n",
       "0      9769  some military patriots takes us through their ...       150   \n",
       "1     10016  Man in baseball cap eats before doing his inte...       150   \n",
       "2     10078  A man in a white shirt discusses the right to ...       150   \n",
       "3      6812  A view of a bamboo fountain of water in a tea ...       150   \n",
       "4      9247  The weather map shows large snowfall in the we...       150   \n",
       "...     ...                                                ...       ...   \n",
       "7213   1369         Kids with different face paintings on them       150   \n",
       "7214   2477  Two small children are playing with instrument...       150   \n",
       "7215   6050     A mom is talking  about her son birthday party       150   \n",
       "7216   8672  Children at a birthday party are wearing costu...       150   \n",
       "7217   8842  A little boy with red and black jacket is hitt...       150   \n",
       "\n",
       "                          vid  \\\n",
       "0     j7rJstUseKg_360.0_510.0   \n",
       "1     j7rJstUseKg_210.0_360.0   \n",
       "2      j7rJstUseKg_60.0_210.0   \n",
       "3      -Oc6gSWB_HA_60.0_210.0   \n",
       "4      G60-kHBEeZA_60.0_210.0   \n",
       "...                       ...   \n",
       "7213  Mp7wN80amkQ_360.0_510.0   \n",
       "7214   Mp7wN80amkQ_60.0_210.0   \n",
       "7215  Mp7wN80amkQ_210.0_360.0   \n",
       "7216  Mp7wN80amkQ_660.0_810.0   \n",
       "7217  Mp7wN80amkQ_510.0_660.0   \n",
       "\n",
       "                                      relevant_clip_ids  \\\n",
       "0     [36, 37, 38, 39, 40, 42, 43, 44, 45, 46, 48, 4...   \n",
       "1                  [48, 49, 50, 51, 52, 53, 54, 55, 56]   \n",
       "2     [24, 38, 39, 40, 41, 42, 43, 44, 45, 46, 47, 4...   \n",
       "3     [32, 33, 34, 35, 36, 37, 38, 39, 40, 41, 42, 4...   \n",
       "4     [7, 8, 9, 10, 11, 12, 13, 14, 15, 16, 17, 18, ...   \n",
       "...                                                 ...   \n",
       "7213  [41, 42, 43, 44, 45, 46, 47, 48, 49, 50, 51, 5...   \n",
       "7214  [33, 34, 35, 36, 37, 38, 39, 40, 41, 42, 43, 4...   \n",
       "7215  [0, 1, 2, 3, 4, 5, 6, 7, 8, 9, 10, 11, 12, 13,...   \n",
       "7216  [51, 52, 53, 54, 55, 56, 57, 58, 59, 60, 61, 6...   \n",
       "7217   [25, 26, 27, 28, 29, 30, 31, 32, 33, 34, 35, 36]   \n",
       "\n",
       "                                        saliency_scores  \\\n",
       "0     [[4, 3, 2], [4, 1, 3], [4, 3, 4], [4, 1, 2], [...   \n",
       "1     [[2, 3, 3], [4, 3, 2], [2, 3, 1], [2, 3, 0], [...   \n",
       "2     [[0, 2, 1], [0, 1, 1], [0, 1, 1], [0, 1, 1], [...   \n",
       "3     [[4, 2, 3], [3, 3, 3], [4, 3, 3], [4, 2, 3], [...   \n",
       "4     [[2, 4, 2], [3, 4, 2], [3, 4, 2], [2, 4, 2], [...   \n",
       "...                                                 ...   \n",
       "7213  [[2, 4, 4], [2, 4, 4], [3, 4, 4], [3, 4, 4], [...   \n",
       "7214  [[0, 2, 2], [0, 2, 2], [1, 2, 3], [3, 3, 3], [...   \n",
       "7215  [[4, 1, 2], [3, 1, 3], [3, 4, 3], [4, 4, 3], [...   \n",
       "7216  [[3, 4, 4], [3, 3, 4], [3, 3, 4], [4, 4, 4], [...   \n",
       "7217  [[2, 4, 3], [2, 4, 3], [3, 4, 3], [3, 4, 3], [...   \n",
       "\n",
       "                                       relevant_windows  \n",
       "0     [[72, 82], [84, 94], [96, 106], [108, 118], [1...  \n",
       "1                                           [[96, 114]]  \n",
       "2         [[48, 50], [76, 120], [122, 138], [140, 146]]  \n",
       "3                                            [[64, 92]]  \n",
       "4                                            [[14, 48]]  \n",
       "...                                                 ...  \n",
       "7213                            [[82, 120], [124, 132]]  \n",
       "7214                                        [[66, 112]]  \n",
       "7215                               [[0, 60], [72, 126]]  \n",
       "7216                                       [[102, 132]]  \n",
       "7217                                         [[50, 74]]  \n",
       "\n",
       "[7218 rows x 7 columns]"
      ]
     },
     "execution_count": 8,
     "metadata": {},
     "output_type": "execute_result"
    }
   ],
   "source": [
    "train_df"
   ]
  },
  {
   "cell_type": "code",
   "execution_count": 11,
   "id": "18a3ece3",
   "metadata": {},
   "outputs": [
    {
     "data": {
      "text/plain": [
       "((7218, 7), (1550, 7))"
      ]
     },
     "execution_count": 11,
     "metadata": {},
     "output_type": "execute_result"
    }
   ],
   "source": [
    "# pd.read_json(os.path.join(fp, os.listdir(fp)[5]), lines = True)\n",
    "train_df.shape, val_df.shape"
   ]
  },
  {
   "cell_type": "code",
   "execution_count": 12,
   "id": "8e01ba73",
   "metadata": {},
   "outputs": [],
   "source": [
    "# val_df\n",
    "train_queries = train_df[\"query\"]\n",
    "val_queries = val_df[\"query\"]"
   ]
  },
  {
   "cell_type": "code",
   "execution_count": 13,
   "id": "30e315fc",
   "metadata": {},
   "outputs": [
    {
     "data": {
      "text/plain": [
       "(8768,)"
      ]
     },
     "execution_count": 13,
     "metadata": {},
     "output_type": "execute_result"
    }
   ],
   "source": [
    "tv_queries = pd.concat([train_queries,val_queries])\n",
    "tv_queries.shape"
   ]
  },
  {
   "cell_type": "code",
   "execution_count": 14,
   "id": "77de0f91",
   "metadata": {},
   "outputs": [
    {
     "data": {
      "text/plain": [
       "0       some military patriots takes us through their ...\n",
       "1       Man in baseball cap eats before doing his inte...\n",
       "2       A man in a white shirt discusses the right to ...\n",
       "3       A view of a bamboo fountain of water in a tea ...\n",
       "4       The weather map shows large snowfall in the we...\n",
       "                              ...                        \n",
       "1545    A woman showing some vegetables and fruits ins...\n",
       "1546             Hand shows different foods on the table.\n",
       "1547    A white plate has different fruits and vegetab...\n",
       "1548    A woman is making a type of green smoothie in ...\n",
       "1549       Footage of two eggs being fried on a small pan\n",
       "Name: query, Length: 8768, dtype: object"
      ]
     },
     "execution_count": 14,
     "metadata": {},
     "output_type": "execute_result"
    }
   ],
   "source": [
    "tv_queries"
   ]
  },
  {
   "cell_type": "code",
   "execution_count": 11,
   "id": "35f138db",
   "metadata": {},
   "outputs": [],
   "source": [
    "# from transformers import AutoTokenizer, AutoModelForTokenClassification\n",
    "# from transformers import pipeline\n",
    "# import tqdm as notebook_tqdm\n",
    "\n",
    "\n",
    "# tokenizer = AutoTokenizer.from_pretrained(\"dslim/bert-base-NER\")\n",
    "# model = AutoModelForTokenClassification.from_pretrained(\"dslim/bert-base-NER\")\n",
    "\n",
    "# nlp = pipeline(\"ner\", model=model, tokenizer=tokenizer)\n",
    "# example = list(tv_queries)[1]"
   ]
  },
  {
   "cell_type": "code",
   "execution_count": 68,
   "id": "9c4ce959",
   "metadata": {},
   "outputs": [],
   "source": [
    "# %%time \n",
    "\n",
    "# ner_results = nlp(example)\n",
    "# print(ner_results)\n",
    "# !python -V"
   ]
  },
  {
   "cell_type": "code",
   "execution_count": 15,
   "id": "332e032d",
   "metadata": {},
   "outputs": [
    {
     "data": {
      "text/plain": [
       "'some military patriots takes us through their safety procedures and measures.'"
      ]
     },
     "execution_count": 15,
     "metadata": {},
     "output_type": "execute_result"
    }
   ],
   "source": [
    "list(tv_queries)[0]"
   ]
  },
  {
   "cell_type": "code",
   "execution_count": 69,
   "id": "4fb3ef9c",
   "metadata": {},
   "outputs": [
    {
     "name": "stdout",
     "output_type": "stream",
     "text": [
      "2023-09-13 15:14:43,309 SequenceTagger predicts: Dictionary with 53 tags: <unk>, O, UH, ,, VBD, PRP, VB, PRP$, NN, RB, ., DT, JJ, VBP, VBG, IN, CD, NNS, NNP, WRB, VBZ, WDT, CC, TO, MD, VBN, WP, :, RP, EX, JJR, FW, XX, HYPH, POS, RBR, JJS, PDT, NNPS, RBS, AFX, WP$, -LRB-, -RRB-, ``, '', LS, $, SYM, ADD\n",
      "Sentence[12]: \"some military patriots takes us through their safety procedures and measures.\" → [\"some\"/DT, \"military\"/JJ, \"patriots\"/NNS, \"takes\"/VBZ, \"us\"/PRP, \"through\"/IN, \"their\"/PRP$, \"safety\"/NN, \"procedures\"/NNS, \"and\"/CC, \"measures\"/NNS, \".\"/.]\n",
      "The following NER tags are found:\n"
     ]
    }
   ],
   "source": [
    "from flair.data import Sentence\n",
    "from flair.models import SequenceTagger\n",
    "\n",
    "# load tagger\n",
    "tagger = SequenceTagger.load(\"flair/pos-english\")\n",
    "\n",
    "# make example sentence\n",
    "sentence = Sentence(list(tv_queries)[0])\n",
    "\n",
    "# predict NER tags\n",
    "tagger.predict(sentence)\n",
    "\n",
    "# print sentence\n",
    "print(sentence)\n",
    "\n",
    "# print predicted NER spans\n",
    "print('The following NER tags are found:')\n",
    "# iterate over entities and print\n",
    "for entity in sentence.get_spans('pos'):\n",
    "    print(entity)\n"
   ]
  },
  {
   "cell_type": "code",
   "execution_count": 70,
   "id": "35d595fe",
   "metadata": {},
   "outputs": [
    {
     "data": {
      "text/plain": [
       "12"
      ]
     },
     "execution_count": 70,
     "metadata": {},
     "output_type": "execute_result"
    }
   ],
   "source": [
    "len(sentence)"
   ]
  },
  {
   "cell_type": "code",
   "execution_count": 71,
   "id": "d1844f93",
   "metadata": {},
   "outputs": [
    {
     "data": {
      "text/plain": [
       "['Token[0]: \"some\"'/'DT' (1.0),\n",
       " 'Token[1]: \"military\"'/'JJ' (0.9898),\n",
       " 'Token[2]: \"patriots\"'/'NNS' (0.9999),\n",
       " 'Token[3]: \"takes\"'/'VBZ' (1.0),\n",
       " 'Token[4]: \"us\"'/'PRP' (1.0),\n",
       " 'Token[5]: \"through\"'/'IN' (0.9998),\n",
       " 'Token[6]: \"their\"'/'PRP$' (1.0),\n",
       " 'Token[7]: \"safety\"'/'NN' (1.0),\n",
       " 'Token[8]: \"procedures\"'/'NNS' (1.0),\n",
       " 'Token[9]: \"and\"'/'CC' (1.0),\n",
       " 'Token[10]: \"measures\"'/'NNS' (1.0),\n",
       " 'Token[11]: \".\"'/'.' (1.0)]"
      ]
     },
     "execution_count": 71,
     "metadata": {},
     "output_type": "execute_result"
    }
   ],
   "source": [
    "type(sentence)\n",
    "\n",
    "sentence.get_labels()"
   ]
  },
  {
   "cell_type": "code",
   "execution_count": 72,
   "id": "b71642d3",
   "metadata": {},
   "outputs": [
    {
     "data": {
      "text/plain": [
       "'DT'"
      ]
     },
     "execution_count": 72,
     "metadata": {},
     "output_type": "execute_result"
    }
   ],
   "source": [
    "sentence.get_token(1).get_label().value"
   ]
  },
  {
   "cell_type": "code",
   "execution_count": 73,
   "id": "92462990",
   "metadata": {},
   "outputs": [
    {
     "data": {
      "text/plain": [
       "'takes'"
      ]
     },
     "execution_count": 73,
     "metadata": {},
     "output_type": "execute_result"
    }
   ],
   "source": [
    "sentence.get_token(4).text"
   ]
  },
  {
   "cell_type": "code",
   "execution_count": 74,
   "id": "ed3a99ad",
   "metadata": {},
   "outputs": [
    {
     "data": {
      "text/plain": [
       "Token[3]: \"takes\" → VBZ (1.0)"
      ]
     },
     "execution_count": 74,
     "metadata": {},
     "output_type": "execute_result"
    }
   ],
   "source": [
    "sentence[3]"
   ]
  },
  {
   "cell_type": "code",
   "execution_count": 75,
   "id": "f9298164",
   "metadata": {},
   "outputs": [
    {
     "data": {
      "text/plain": [
       "[]"
      ]
     },
     "execution_count": 75,
     "metadata": {},
     "output_type": "execute_result"
    }
   ],
   "source": [
    "sentence.get_spans(\"pos\")"
   ]
  },
  {
   "cell_type": "code",
   "execution_count": 76,
   "id": "060b9731",
   "metadata": {},
   "outputs": [],
   "source": [
    "tagger.predict(sentence)\n"
   ]
  },
  {
   "cell_type": "code",
   "execution_count": 77,
   "id": "2a187c2e",
   "metadata": {},
   "outputs": [],
   "source": [
    "req_tags = [\"VB\", \"VBD\", \"VBG\", \"VBN\", \"VBP\", \"VBZ\"]"
   ]
  },
  {
   "cell_type": "code",
   "execution_count": 78,
   "id": "ee838a66",
   "metadata": {},
   "outputs": [],
   "source": [
    "# sentence.get_spans(\"POS\")"
   ]
  },
  {
   "cell_type": "code",
   "execution_count": 80,
   "id": "29c95aa8",
   "metadata": {},
   "outputs": [
    {
     "name": "stderr",
     "output_type": "stream",
     "text": [
      "/Users/sreevaatsav/Downloads/LangChain/myenv/lib/python3.9/site-packages/bitsandbytes/cextension.py:34: UserWarning: The installed version of bitsandbytes was compiled without GPU support. 8-bit optimizers, 8-bit multiplication, and GPU quantization are unavailable.\n",
      "  warn(\"The installed version of bitsandbytes was compiled without GPU support. \"\n"
     ]
    },
    {
     "name": "stdout",
     "output_type": "stream",
     "text": [
      "'NoneType' object has no attribute 'cadam32bit_grad_fp32'\n"
     ]
    }
   ],
   "source": [
    "from flair.data import Sentence\n",
    "from flair.models import SequenceTagger\n",
    "\n",
    "def get_ner_tags(tv_queries):\n",
    "\n",
    "    req_tags = [\"VB\", \"VBD\", \"VBG\", \"VBN\", \"VBP\", \"VBZ\"]\n",
    "\n",
    "    tagger = SequenceTagger.load(\"flair/pos-english\")\n",
    "\n",
    "    tv_queries_list = list(tv_queries)\n",
    "\n",
    "\n",
    "    op = []\n",
    "\n",
    "    for i in range(len(tv_queries_list)):\n",
    "        \n",
    "        sentence = Sentence(tv_queries_list[i])\n",
    "\n",
    "        tagger.predict(sentence)\n",
    "\n",
    "        temp_op = []\n",
    "\n",
    "        for j in range(1,len(sentence)+1):\n",
    "    \n",
    "            curr_val = sentence.get_token(j).get_label().value\n",
    "\n",
    "            # print(curr_val)\n",
    "\n",
    "            if curr_val in req_tags:\n",
    "\n",
    "                curr_tok = sentence.get_token(j).text\n",
    "\n",
    "                temp_op.append(curr_tok)\n",
    "\n",
    "        op.append(temp_op)\n",
    "\n",
    "    return op"
   ]
  },
  {
   "cell_type": "code",
   "execution_count": 80,
   "id": "cc9baa38",
   "metadata": {},
   "outputs": [
    {
     "name": "stdout",
     "output_type": "stream",
     "text": [
      "2023-09-13 15:14:55,479 SequenceTagger predicts: Dictionary with 53 tags: <unk>, O, UH, ,, VBD, PRP, VB, PRP$, NN, RB, ., DT, JJ, VBP, VBG, IN, CD, NNS, NNP, WRB, VBZ, WDT, CC, TO, MD, VBN, WP, :, RP, EX, JJR, FW, XX, HYPH, POS, RBR, JJS, PDT, NNPS, RBS, AFX, WP$, -LRB-, -RRB-, ``, '', LS, $, SYM, ADD\n",
      "CPU times: user 41min 57s, sys: 36.9 s, total: 42min 34s\n",
      "Wall time: 42min 2s\n"
     ]
    }
   ],
   "source": [
    "%%time \n",
    "\n",
    "op = get_ner_tags(tv_queries)"
   ]
  },
  {
   "cell_type": "code",
   "execution_count": 27,
   "id": "16725b4c",
   "metadata": {},
   "outputs": [],
   "source": [
    "from matplotlib import pyplot as plt \n",
    "import seaborn as sns\n"
   ]
  },
  {
   "cell_type": "code",
   "execution_count": 82,
   "id": "af9dee99",
   "metadata": {},
   "outputs": [],
   "source": [
    "tot_verbs = []\n",
    "\n",
    "for va in op:\n",
    "    tot_verbs += va"
   ]
  },
  {
   "cell_type": "code",
   "execution_count": null,
   "id": "408e4c0c",
   "metadata": {},
   "outputs": [],
   "source": []
  },
  {
   "cell_type": "code",
   "execution_count": 83,
   "id": "7854161a",
   "metadata": {},
   "outputs": [],
   "source": [
    "# tot_verbs\n",
    "from collections import Counter\n",
    "\n",
    "temp_collection  = Counter(tot_verbs)\n",
    "# sns.countplot(tot_verbs)"
   ]
  },
  {
   "cell_type": "code",
   "execution_count": 84,
   "id": "157dcfed",
   "metadata": {},
   "outputs": [
    {
     "data": {
      "text/plain": [
       "[('talking', 562),\n",
       " ('showing', 448),\n",
       " ('wearing', 335),\n",
       " ('talks', 323),\n",
       " ('walks', 272),\n",
       " ('shows', 243),\n",
       " ('holds', 235),\n",
       " ('walking', 221),\n",
       " ('sitting', 208),\n",
       " ('holding', 170),\n",
       " ('sits', 153),\n",
       " ('having', 149),\n",
       " ('eating', 137),\n",
       " ('has', 131),\n",
       " ('playing', 123),\n",
       " ('being', 119),\n",
       " ('sharing', 117),\n",
       " ('stands', 111),\n",
       " ('walk', 109),\n",
       " ('wears', 107),\n",
       " ('shown', 99),\n",
       " ('eats', 98),\n",
       " ('standing', 97),\n",
       " ('driving', 97),\n",
       " ('giving', 95),\n",
       " ('gives', 94),\n",
       " ('have', 92),\n",
       " ('looks', 92),\n",
       " ('making', 80),\n",
       " ('speaks', 78),\n",
       " ('getting', 76),\n",
       " ('looking', 73),\n",
       " ('makes', 71),\n",
       " ('gets', 70),\n",
       " ('talk', 70),\n",
       " ('goes', 70),\n",
       " ('drives', 68),\n",
       " ('eat', 68),\n",
       " ('doing', 62),\n",
       " ('make', 61),\n",
       " ('puts', 61),\n",
       " ('riding', 57),\n",
       " ('sit', 56),\n",
       " ('speaking', 56),\n",
       " ('rides', 53),\n",
       " ('hanging', 52),\n",
       " ('taking', 52),\n",
       " ('trying', 52)]"
      ]
     },
     "execution_count": 84,
     "metadata": {},
     "output_type": "execute_result"
    }
   ],
   "source": [
    "temp_collection.most_common(50)[2:]"
   ]
  },
  {
   "cell_type": "code",
   "execution_count": 85,
   "id": "9252002a",
   "metadata": {},
   "outputs": [],
   "source": [
    "top_50_verbs = dict(temp_collection.most_common(50)[2:27])"
   ]
  },
  {
   "cell_type": "code",
   "execution_count": 86,
   "id": "9c7917db",
   "metadata": {},
   "outputs": [
    {
     "data": {
      "image/png": "[encoded data removed]",
      "text/plain": [
       "<Figure size 2000x600 with 1 Axes>"
      ]
     },
     "metadata": {},
     "output_type": "display_data"
    }
   ],
   "source": [
    "plt.figure(figsize=(20,6))\n",
    "sns.barplot(x = list(top_50_verbs.keys()), y = list(top_50_verbs.values()))\n",
    "plt.show()"
   ]
  },
  {
   "cell_type": "code",
   "execution_count": 88,
   "id": "b3d3fa09",
   "metadata": {},
   "outputs": [],
   "source": [
    "test_queries = test_df[\"query\"]"
   ]
  },
  {
   "cell_type": "code",
   "execution_count": 89,
   "id": "ca3edea3",
   "metadata": {},
   "outputs": [
    {
     "name": "stdout",
     "output_type": "stream",
     "text": [
      "2023-09-13 16:21:44,963 SequenceTagger predicts: Dictionary with 53 tags: <unk>, O, UH, ,, VBD, PRP, VB, PRP$, NN, RB, ., DT, JJ, VBP, VBG, IN, CD, NNS, NNP, WRB, VBZ, WDT, CC, TO, MD, VBN, WP, :, RP, EX, JJR, FW, XX, HYPH, POS, RBR, JJS, PDT, NNPS, RBS, AFX, WP$, -LRB-, -RRB-, ``, '', LS, $, SYM, ADD\n",
      "CPU times: user 7min 21s, sys: 6.34 s, total: 7min 28s\n",
      "Wall time: 7min 23s\n"
     ]
    }
   ],
   "source": [
    "%%time \n",
    "op_test = get_ner_tags(test_queries)"
   ]
  },
  {
   "cell_type": "code",
   "execution_count": 90,
   "id": "9c9e9069",
   "metadata": {},
   "outputs": [],
   "source": [
    "tot_verbs_test = []\n",
    "\n",
    "for va in op_test:\n",
    "    tot_verbs_test += va"
   ]
  },
  {
   "cell_type": "code",
   "execution_count": 91,
   "id": "cc6fb3f5",
   "metadata": {},
   "outputs": [],
   "source": [
    "temp_collection_test  = Counter(tot_verbs_test)\n",
    "\n",
    "top_25_verbs_test = dict(temp_collection_test.most_common(50)[2:27])"
   ]
  },
  {
   "cell_type": "code",
   "execution_count": 92,
   "id": "b62c4b80",
   "metadata": {},
   "outputs": [
    {
     "data": {
      "image/png": "[encoded data removed]",
      "text/plain": [
       "<Figure size 2000x600 with 1 Axes>"
      ]
     },
     "metadata": {},
     "output_type": "display_data"
    }
   ],
   "source": [
    "plt.figure(figsize=(20,6))\n",
    "sns.barplot(x = list(top_25_verbs_test.keys()), y = list(top_25_verbs_test.values()))\n",
    "plt.show()"
   ]
  },
  {
   "cell_type": "code",
   "execution_count": 111,
   "id": "82490ae5",
   "metadata": {},
   "outputs": [],
   "source": [
    "# op_test\n",
    "import pickle \n",
    "\n",
    "with open(\"verbs_train\", \"wb\") as fp:\n",
    "    pickle.dump(op, fp)"
   ]
  },
  {
   "cell_type": "code",
   "execution_count": 112,
   "id": "80689217",
   "metadata": {},
   "outputs": [],
   "source": [
    "import pickle \n",
    "\n",
    "with open(\"verbs_test\", \"wb\") as fp:\n",
    "    pickle.dump(op_test, fp)"
   ]
  },
  {
   "cell_type": "code",
   "execution_count": 16,
   "id": "e541d2aa",
   "metadata": {},
   "outputs": [],
   "source": [
    "import pickle\n",
    "\n",
    "with open(\"verbs_train\", \"rb\") as fp:\n",
    "    verbs_train = pickle.load(fp)\n",
    "\n",
    "\n",
    "with open(\"verbs_test\", \"rb\") as fp:\n",
    "    verbs_test = pickle.load(fp)"
   ]
  },
  {
   "cell_type": "code",
   "execution_count": 18,
   "id": "00580a51",
   "metadata": {},
   "outputs": [],
   "source": [
    "# verbs_train"
   ]
  },
  {
   "cell_type": "markdown",
   "id": "b4f3cac9",
   "metadata": {},
   "source": [
    "## Are the temporal locations of the moments annotated biased towards any end? "
   ]
  },
  {
   "cell_type": "code",
   "execution_count": 19,
   "id": "454c9c41",
   "metadata": {},
   "outputs": [],
   "source": [
    "tv_df = pd.concat([train_df,val_df])"
   ]
  },
  {
   "cell_type": "code",
   "execution_count": 20,
   "id": "2d46ec0c",
   "metadata": {},
   "outputs": [],
   "source": [
    "duration_tv = tv_df[\"duration\"]"
   ]
  },
  {
   "cell_type": "code",
   "execution_count": 21,
   "id": "554345c3",
   "metadata": {},
   "outputs": [
    {
     "data": {
      "text/plain": [
       "[[0, 130]]"
      ]
     },
     "execution_count": 21,
     "metadata": {},
     "output_type": "execute_result"
    }
   ],
   "source": [
    "tv_df.iloc[110][\"relevant_windows\"]\n",
    "\n",
    "# tv_df.iloc[0][\"vid\"]"
   ]
  },
  {
   "cell_type": "code",
   "execution_count": 22,
   "id": "bbcb6d3d",
   "metadata": {},
   "outputs": [
    {
     "data": {
      "text/plain": [
       "Index(['qid', 'query', 'duration', 'vid', 'relevant_clip_ids',\n",
       "       'saliency_scores', 'relevant_windows'],\n",
       "      dtype='object')"
      ]
     },
     "execution_count": 22,
     "metadata": {},
     "output_type": "execute_result"
    }
   ],
   "source": [
    "tv_df.columns"
   ]
  },
  {
   "cell_type": "code",
   "execution_count": 23,
   "id": "3561fbb0",
   "metadata": {},
   "outputs": [],
   "source": [
    "rel_windows_tv = tv_df[\"relevant_windows\"]"
   ]
  },
  {
   "cell_type": "code",
   "execution_count": 24,
   "id": "b991192f",
   "metadata": {},
   "outputs": [],
   "source": [
    "for i in range(len(rel_windows_tv)):\n",
    "\n",
    "    for j in range(len(rel_windows_tv.iloc[i])):\n",
    "\n",
    "        curr_dur = duration_tv.iloc[i]\n",
    "\n",
    "        rel_windows_tv.iloc[i][j][0] = rel_windows_tv.iloc[i][j][0]/curr_dur\n",
    "        rel_windows_tv.iloc[i][j][1] = rel_windows_tv.iloc[i][j][1]/curr_dur\n",
    "\n"
   ]
  },
  {
   "cell_type": "code",
   "execution_count": 25,
   "id": "5170d09a",
   "metadata": {},
   "outputs": [],
   "source": [
    "# rel_windows_tv\n",
    "\n",
    "\n",
    "start_pts = []\n",
    "\n",
    "for i in range(len(rel_windows_tv)):\n",
    "\n",
    "    for j in range(len(rel_windows_tv.iloc[i])):\n",
    "        start_pts.append(rel_windows_tv.iloc[i][j][0])\n"
   ]
  },
  {
   "cell_type": "code",
   "execution_count": 28,
   "id": "9a89211b",
   "metadata": {},
   "outputs": [
    {
     "data": {
      "image/png": "[encoded data removed]",
      "text/plain": [
       "<Figure size 640x480 with 1 Axes>"
      ]
     },
     "metadata": {},
     "output_type": "display_data"
    }
   ],
   "source": [
    "plt.title(\"Starting point of the moments annotated\")\n",
    "sns.kdeplot(start_pts)\n",
    "plt.show()"
   ]
  },
  {
   "cell_type": "code",
   "execution_count": 29,
   "id": "f6523668",
   "metadata": {},
   "outputs": [
    {
     "name": "stderr",
     "output_type": "stream",
     "text": [
      "/Users/sreevaatsav/Downloads/LangChain/myenv/lib/python3.9/site-packages/seaborn/axisgrid.py:118: UserWarning: The figure layout has changed to tight\n",
      "  self._figure.tight_layout(*args, **kwargs)\n"
     ]
    },
    {
     "data": {
      "image/png": "[encoded data removed]",
      "text/plain": [
       "<Figure size 500x500 with 1 Axes>"
      ]
     },
     "metadata": {},
     "output_type": "display_data"
    }
   ],
   "source": [
    "sns.displot(start_pts)\n",
    "plt.show()"
   ]
  },
  {
   "cell_type": "code",
   "execution_count": 33,
   "id": "916f6fef",
   "metadata": {},
   "outputs": [
    {
     "data": {
      "text/plain": [
       "(15606,)"
      ]
     },
     "execution_count": 33,
     "metadata": {},
     "output_type": "execute_result"
    }
   ],
   "source": [
    "start_pts = np.array(start_pts)\n",
    "\n",
    "start_pts.shape"
   ]
  },
  {
   "cell_type": "code",
   "execution_count": 34,
   "id": "94d31cee",
   "metadata": {},
   "outputs": [
    {
     "data": {
      "text/plain": [
       "12.014609765474818"
      ]
     },
     "execution_count": 34,
     "metadata": {},
     "output_type": "execute_result"
    }
   ],
   "source": [
    "start_pts[start_pts == 0].shape[0] / start_pts.shape[0] * 100"
   ]
  },
  {
   "cell_type": "code",
   "execution_count": 99,
   "id": "92584d59",
   "metadata": {},
   "outputs": [
    {
     "data": {
      "text/plain": [
       "20.54978854286813"
      ]
     },
     "execution_count": 99,
     "metadata": {},
     "output_type": "execute_result"
    }
   ],
   "source": [
    "# start_pts[start_pts <= 0.1].shape[0] / start_pts.shape[0] * 100\n",
    "\n",
    "start_pts[(start_pts >= 0.0)&(start_pts<= 0.1)].shape[0] / start_pts.shape[0] * 100"
   ]
  },
  {
   "cell_type": "markdown",
   "id": "460af816",
   "metadata": {},
   "source": [
    "#### 20% of the videos have the moments in the 1st 10% of the duration."
   ]
  },
  {
   "cell_type": "markdown",
   "id": "b7aec88b",
   "metadata": {},
   "source": [
    "## Are the saliency scores from the 3 annotators biased? Let's check"
   ]
  },
  {
   "cell_type": "code",
   "execution_count": 35,
   "id": "1a86647a",
   "metadata": {},
   "outputs": [],
   "source": [
    "df_saliency = tv_df[\"saliency_scores\"]"
   ]
  },
  {
   "cell_type": "code",
   "execution_count": 36,
   "id": "d14a2350",
   "metadata": {},
   "outputs": [],
   "source": [
    "import numpy as np\n",
    "\n",
    "annot_scores = []\n",
    "for i in range(len(df_saliency)):\n",
    "\n",
    "    curr_scores = np.array([0,0,0])\n",
    "    for j in range(len(df_saliency.iloc[i])):\n",
    "        curr_scores += np.array(df_saliency.iloc[i][j])\n",
    "\n",
    "    curr_scores = curr_scores/len(df_saliency.iloc[i])\n",
    "\n",
    "    annot_scores.append(curr_scores)\n",
    "\n",
    "annot_scores = np.array(annot_scores)\n",
    "\n"
   ]
  },
  {
   "cell_type": "code",
   "execution_count": 37,
   "id": "ee7ec921",
   "metadata": {},
   "outputs": [
    {
     "data": {
      "text/plain": [
       "(8768, 3)"
      ]
     },
     "execution_count": 37,
     "metadata": {},
     "output_type": "execute_result"
    }
   ],
   "source": [
    "annot_scores.shape"
   ]
  },
  {
   "cell_type": "code",
   "execution_count": 38,
   "id": "7ffe7b05",
   "metadata": {},
   "outputs": [
    {
     "data": {
      "text/plain": [
       "(8768,)"
      ]
     },
     "execution_count": 38,
     "metadata": {},
     "output_type": "execute_result"
    }
   ],
   "source": [
    "annot_scores[:,0].shape\n",
    "annot_scores[:,1].shape\n",
    "annot_scores[:,2].shape\n"
   ]
  },
  {
   "cell_type": "code",
   "execution_count": 39,
   "id": "edbbfc59",
   "metadata": {},
   "outputs": [
    {
     "data": {
      "image/png": "[encoded data removed]",
      "text/plain": [
       "<Figure size 1000x500 with 1 Axes>"
      ]
     },
     "metadata": {},
     "output_type": "display_data"
    }
   ],
   "source": [
    "plt.figure(figsize=(10,5))\n",
    "plt.title(\"Avg rating of moments distribution\")\n",
    "sns.kdeplot(annot_scores[:,0])\n",
    "sns.kdeplot(annot_scores[:,1])\n",
    "sns.kdeplot(annot_scores[:,2])\n",
    "plt.legend([\"annotator1\",\"annotator2\",\"annotator3\"])\n",
    "plt.show()"
   ]
  },
  {
   "cell_type": "code",
   "execution_count": 40,
   "id": "6e771233",
   "metadata": {},
   "outputs": [
    {
     "data": {
      "text/plain": [
       "(2.9029385650401824, 2.9430321368269845, 2.981987416182547)"
      ]
     },
     "execution_count": 40,
     "metadata": {},
     "output_type": "execute_result"
    }
   ],
   "source": [
    "annot_scores[:,0].mean(), annot_scores[:,1].mean(), annot_scores[:,2].mean()"
   ]
  },
  {
   "cell_type": "markdown",
   "id": "e1bc6ff5",
   "metadata": {},
   "source": [
    "### We can see that, annotator 3 rated the videos with a little bit higher saliency scores than the others"
   ]
  },
  {
   "cell_type": "code",
   "execution_count": 54,
   "id": "c5211861",
   "metadata": {},
   "outputs": [],
   "source": [
    "verbs_train_ing = []\n",
    "\n",
    "for arr in verbs_train:\n",
    "    tempop = []\n",
    "    for ele in arr:\n",
    "        if ele not in (\"is\",\"have\",\"was\",\"are\",\"they\",\"been\"):\n",
    "            tempop.append(ele)\n",
    "    verbs_train_ing.append(tempop)"
   ]
  },
  {
   "cell_type": "code",
   "execution_count": 57,
   "id": "1d074592",
   "metadata": {},
   "outputs": [],
   "source": [
    "# verbs_train_ing"
   ]
  },
  {
   "cell_type": "code",
   "execution_count": 61,
   "id": "b62e2a20",
   "metadata": {},
   "outputs": [],
   "source": [
    "zero_ind = []\n",
    "\n",
    "for i in range(len(rel_windows_tv)):\n",
    "    for j in range(len(rel_windows_tv.iloc[i])):\n",
    "\n",
    "        if rel_windows_tv.iloc[i][j][0] == 0:\n",
    "            zero_ind.append(i)\n",
    "\n",
    "# zero_ind"
   ]
  },
  {
   "cell_type": "code",
   "execution_count": 76,
   "id": "65ed1c0a",
   "metadata": {},
   "outputs": [],
   "source": [
    "zero_time_queries = list(tv_queries.iloc[zero_ind])\n"
   ]
  },
  {
   "cell_type": "code",
   "execution_count": 81,
   "id": "58d6685f",
   "metadata": {},
   "outputs": [
    {
     "name": "stdout",
     "output_type": "stream",
     "text": [
      "2023-09-21 09:55:30,229 SequenceTagger predicts: Dictionary with 53 tags: <unk>, O, UH, ,, VBD, PRP, VB, PRP$, NN, RB, ., DT, JJ, VBP, VBG, IN, CD, NNS, NNP, WRB, VBZ, WDT, CC, TO, MD, VBN, WP, :, RP, EX, JJR, FW, XX, HYPH, POS, RBR, JJS, PDT, NNPS, RBS, AFX, WP$, -LRB-, -RRB-, ``, '', LS, $, SYM, ADD\n",
      "CPU times: user 8min 40s, sys: 8.06 s, total: 8min 48s\n",
      "Wall time: 8min 43s\n"
     ]
    }
   ],
   "source": [
    "%%time\n",
    "\n",
    "op_zero = get_ner_tags(zero_time_queries)"
   ]
  },
  {
   "cell_type": "code",
   "execution_count": 86,
   "id": "8999564d",
   "metadata": {},
   "outputs": [],
   "source": [
    "tot_verbs_zero = []\n",
    "\n",
    "for va in op_zero:\n",
    "    tot_verbs_zero += va\n"
   ]
  },
  {
   "cell_type": "code",
   "execution_count": 90,
   "id": "948f94c2",
   "metadata": {},
   "outputs": [
    {
     "data": {
      "image/png": "[encoded data removed]",
      "text/plain": [
       "<Figure size 2000x600 with 1 Axes>"
      ]
     },
     "metadata": {},
     "output_type": "display_data"
    }
   ],
   "source": [
    "temp_collection_zero  = Counter(tot_verbs_zero)\n",
    "\n",
    "top_50_verbs_0 = dict(temp_collection_zero.most_common(50)[0:27])\n",
    "\n",
    "del top_50_verbs_0[\"is\"]\n",
    "del top_50_verbs_0[\"are\"]\n",
    "\n",
    "plt.figure(figsize=(20,6))\n",
    "sns.barplot(x = list(top_50_verbs_0.keys()), y = list(top_50_verbs_0.values()))\n",
    "plt.show()\n",
    "\n",
    "# top_50_verbs_0 = dict(temp_collection_zero.most_common(50)[0:28])\n",
    "# top_50_verbs_0"
   ]
  },
  {
   "cell_type": "code",
   "execution_count": null,
   "id": "751c4e93",
   "metadata": {},
   "outputs": [],
   "source": []
  },
  {
   "cell_type": "code",
   "execution_count": null,
   "id": "a02a7995",
   "metadata": {},
   "outputs": [],
   "source": []
  },
  {
   "cell_type": "code",
   "execution_count": null,
   "id": "e02bc5b3",
   "metadata": {},
   "outputs": [],
   "source": []
  },
  {
   "cell_type": "code",
   "execution_count": null,
   "id": "dd96373a",
   "metadata": {},
   "outputs": [],
   "source": []
  },
  {
   "cell_type": "code",
   "execution_count": null,
   "id": "9066e89b",
   "metadata": {},
   "outputs": [],
   "source": []
  },
  {
   "cell_type": "code",
   "execution_count": null,
   "id": "7bf0ba99",
   "metadata": {},
   "outputs": [],
   "source": []
  },
  {
   "cell_type": "code",
   "execution_count": null,
   "id": "a8bf6412",
   "metadata": {},
   "outputs": [],
   "source": []
  },
  {
   "cell_type": "code",
   "execution_count": null,
   "id": "07a7f133",
   "metadata": {},
   "outputs": [],
   "source": []
  },
  {
   "cell_type": "code",
   "execution_count": null,
   "id": "8a550a64",
   "metadata": {},
   "outputs": [],
   "source": []
  }
 ],
 "metadata": {
  "kernelspec": {
   "display_name": "Python 3",
   "language": "python",
   "name": "python3"
  },
  "language_info": {
   "codemirror_mode": {
    "name": "ipython",
    "version": 3
   },
   "file_extension": ".py",
   "mimetype": "text/x-python",
   "name": "python",
   "nbconvert_exporter": "python",
   "pygments_lexer": "ipython3",
   "version": "3.9.0"
  }
 },
 "nbformat": 4,
 "nbformat_minor": 5
}
